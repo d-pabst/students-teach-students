{
 "cells": [
  {
   "cell_type": "code",
   "execution_count": 10,
   "metadata": {},
   "outputs": [
    {
     "data": {
      "application/vnd.jupyter.widget-view+json": {
       "model_id": "fbf375aefaa64e1e83a581b4bd4c39f6",
       "version_major": 2,
       "version_minor": 0
      },
      "text/plain": [
       "interactive(children=(FloatSlider(value=0.25, description='frac', max=0.5, min=0.01, step=0.01), Output()), _d…"
      ]
     },
     "metadata": {},
     "output_type": "display_data"
    },
    {
     "data": {
      "text/plain": [
       "<function __main__.cutoff(frac)>"
      ]
     },
     "execution_count": 10,
     "metadata": {},
     "output_type": "execute_result"
    }
   ],
   "source": [
    "import numpy as np\n",
    "import matplotlib.pyplot as plt\n",
    "import numpy.random as rnd\n",
    "import scipy.fftpack as fft\n",
    "from matplotlib.colors import LogNorm\n",
    "from ipywidgets import interact\n",
    "\n",
    "%matplotlib inline\n",
    "\n",
    "\n",
    "img = plt.imread(\"moonlanding.png\").astype(float)\n",
    "img_fft = fft.fft2(img)\n",
    "\n",
    "frac = 0.1\n",
    "r, c = img_fft.shape\n",
    "fig, ((ax11, ax12), (ax21, ax22)) = plt.subplots(2, 2, figsize=(20, 14))\n",
    "ax11.imshow(img, plt.cm.gray)\n",
    "ax11.axis(\"off\")\n",
    "ax11.set_title(\"Original image\")\n",
    "ax12.imshow(np.abs(img_fft), norm=LogNorm(vmin=5))\n",
    "ax12.set_title(\"Fourier transform\")\n",
    "fig.colorbar(\n",
    "    ax12.imshow(np.abs(img_fft), norm=LogNorm(vmin=5)),\n",
    "    ax=ax12,\n",
    "    fraction=0.046,\n",
    "    pad=0.04,\n",
    ")\n",
    "# initially define a colorbar instance, \n",
    "# so cutoff won't add it over an over again,\n",
    "# but update its value\n",
    "reduced_fft_colorbar = fig.colorbar(\n",
    "        ax22.imshow(np.abs(img_fft), norm=LogNorm(vmin=5)),\n",
    "        ax=ax22,\n",
    "        fraction=0.046,\n",
    "        pad=0.04,\n",
    "    )\n",
    "ax21.set_title(\"Reconstructed Image\")\n",
    "ax22.set_title(\"Reduced Fourier Transform\")\n",
    "# prevent plot from showing\n",
    "plt.close()\n",
    "\n",
    "def cutoff(frac):\n",
    "    # use copy to not overwrite img_fft\n",
    "    # like that there is no need to recalculate the fft\n",
    "    img_coff = np.copy(img_fft)\n",
    "    img_coff[int(r * frac) : int(r * (1 - frac))] = 0\n",
    "    img_coff[:, int(c * frac) : int(c * (1 - frac))] = 0\n",
    "    img_den = fft.ifft2(img_coff).real\n",
    "    ax21.imshow(img_den, plt.cm.gray)\n",
    "    # reset the shown image, since imshow stacks the data\n",
    "    ax22.clear()\n",
    "    reduced_fft_plt = ax22.imshow(np.abs(img_coff), norm=LogNorm(vmin=5))\n",
    "    reduced_fft_colorbar.update_normal(reduced_fft_plt)\n",
    "    return fig\n",
    "\n",
    "\n",
    "interact(cutoff, frac=(0.01, 0.5, 0.01))"
   ]
  },
  {
   "cell_type": "markdown",
   "metadata": {},
   "source": [
    "Fourier Transforms (scipy.fftpack)\n",
    "===========\n",
    "\n",
    "Fourier Transforms decompose a Signal into a spectrum of periodic functions.\n",
    "The Fourier Transforms that scipy uses are Fast Fourier Transforms, which decomposes discrete signals into a discrete spectrum, which is different to the fourier transform many people are used from university, which decomposes continous functions into continous spectrums.\n",
    "\n",
    "One-Dimensional Case\n",
    "-----------------------\n",
    "\n",
    "The One-Dimensional FFT (1D-FFT) decomposes a vector with N entries into one with also N Entries\n",
    "\n",
    "let $x_n$ be the n-th entry of the original signal vector X with length N and $y_k$ the k-th entry of the resulting spectrum-vector Y which also has the length N\n",
    "\n",
    "then $y_k$ is defined as:\n",
    "$\\sum_{n=0}^{N-1} e^{-2\\pi j \\frac{nk}{N}}x_n $\n",
    "\n",
    "the back-transform or  is defined as:\n",
    "\n",
    "$x_n =\\frac{1}{N} \\sum_{k=0}^{N-1} e^{2\\pi j \\frac{nk}{N}} y_k$\n",
    "\n",
    "example:\n",
    "\n",
    "Let X be: (0,1,0,0)$^T$\n",
    "\n",
    "The resulting Fourier Transform is:\n",
    "\n",
    "($e^{-0\\cdot\\pi j }$,$e^{-\\pi j }$,$e^{-2\\pi j }$,$e^{-3\\pi j }$)\n",
    "which is equal to:\n",
    "(1,-1j,-1,1j)\n",
    "\n",
    "which we can verify with scipy:\n"
   ]
  },
  {
   "cell_type": "code",
   "execution_count": 9,
   "metadata": {},
   "outputs": [
    {
     "name": "stdout",
     "output_type": "stream",
     "text": [
      "[ 1.+0.j  0.-1.j -1.+0.j  0.+1.j]\n"
     ]
    }
   ],
   "source": [
    "import numpy as np\n",
    "import scipy.fftpack as fft\n",
    "\n",
    "x = np.array([0,1,0,0])\n",
    "y=fft.fft(x)\n",
    "print(y)"
   ]
  },
  {
   "cell_type": "code",
   "execution_count": null,
   "metadata": {},
   "outputs": [],
   "source": []
  }
 ],
 "metadata": {
  "kernelspec": {
   "display_name": "Python 3",
   "language": "python",
   "name": "python3"
  },
  "language_info": {
   "codemirror_mode": {
    "name": "ipython",
    "version": 3
   },
   "file_extension": ".py",
   "mimetype": "text/x-python",
   "name": "python",
   "nbconvert_exporter": "python",
   "pygments_lexer": "ipython3",
   "version": "3.7.1"
  }
 },
 "nbformat": 4,
 "nbformat_minor": 4
}
